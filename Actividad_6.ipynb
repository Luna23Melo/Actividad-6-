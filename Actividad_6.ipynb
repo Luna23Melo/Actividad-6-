{
  "nbformat": 4,
  "nbformat_minor": 0,
  "metadata": {
    "colab": {
      "provenance": []
    },
    "kernelspec": {
      "name": "python3",
      "display_name": "Python 3"
    },
    "language_info": {
      "name": "python"
    }
  },
  "cells": [
    {
      "cell_type": "code",
      "execution_count": null,
      "metadata": {
        "id": "XPIeDuir4UwT"
      },
      "outputs": [],
      "source": []
    },
    {
      "cell_type": "markdown",
      "source": [
        "Ejercicio 1\n",
        "Escribir un programa en Python que declare una lista y la vaya llenando de números hasta\n",
        "que introduzcamos un número negativo. Entonces se debe imprimir el vector (sólo los\n",
        "valores introducidos)"
      ],
      "metadata": {
        "id": "W3ji57dC4bKE"
      }
    },
    {
      "source": [
        "numeros = []\n",
        "while True:\n",
        "    numero = int(input(\"Introduce un número (negativo para terminar): \"))\n",
        "    if numero < 0:\n",
        "        break\n",
        "    numeros.append(numero)\n",
        "    #numero = int(input(\"Introduce otro número (negativo para terminar): \")) # This line is redundant and might cause issues\n",
        "print(\"Los números introducidos son:\", numeros)"
      ],
      "cell_type": "code",
      "metadata": {
        "id": "fGDUe0g27m3T"
      },
      "execution_count": null,
      "outputs": []
    },
    {
      "cell_type": "markdown",
      "source": [
        "Ejercicio 2\n",
        "Escribir un programa en Python que declare tres listas ‘lista1’, ‘lista2’ y ‘lista3’ de cinco\n",
        "enteros cada uno, pida valores para ‘lista1’ y ‘lista2’ y calcule lista3=lista1+lista2."
      ],
      "metadata": {
        "id": "0XeXCVk-8niD"
      }
    },
    {
      "cell_type": "code",
      "source": [
        "lista1 = []\n",
        "lista2 = []\n",
        "lista3 = []\n",
        "print(\"Introduce 5 números para la lista1:\")\n",
        "for i in range(5):\n",
        "    numero = int(input(f\"Introduce el número {i + 1} para lista1: \"))\n",
        "    lista1.append(numero)\n",
        "print(\"\\nIntroduce 5 números para la lista2:\")\n",
        "for i in range(5):\n",
        "    numero = int(input(f\"Introduce el número {i + 1} para lista2: \"))\n",
        "    lista2.append(numero)\n",
        " lista3 = [lista1[i] + lista2[i] for i in range(5)]\n",
        " print(\"\\nLista1:\", lista1)\n",
        "print(\"Lista2:\", lista2)\n",
        "print(\"Lista3 (suma de lista1 y lista2):\", lista3)\n"
      ],
      "metadata": {
        "id": "nq4l4rmw8sNy"
      },
      "execution_count": null,
      "outputs": []
    },
    {
      "cell_type": "markdown",
      "source": [
        "Ejercicio 3\n",
        "Escribir un programa en Python que guarde la temperatura mínima y máxima de los\n",
        "últimos 5 días. El programa debe recibir la información, almacenarla y mostrar:\n",
        "● La temperatura media de cada día\n",
        "● Los días con menor temperatura\n",
        "● Después de almacenar la información de los 5 días, el programa debe recinir una\n",
        "temperatura más por teclado y mostrar los días cuya temperatura máxima coincide\n",
        "con ella. si no existe ningún día se muestra un mensaje de información."
      ],
      "metadata": {
        "id": "ePg3_CA-9mxc"
      }
    },
    {
      "cell_type": "code",
      "source": [
        "mínimos=[]\n",
        "máximos=[]\n",
        "media= []\n",
        " min_temp = float(input(f\"Ingrese la temperatura mínima del día {i + 1}: \"))\n",
        " max_temp = float(input(f\"Ingrese la temperatura máxima del día {i + 1}: \"))\n",
        " temp_min.append(min_temp)\n",
        " temp_max.append(max_temp)\n",
        "menor_temp = min(temp_min)\n",
        "dias_menor_temp = [i + 1 for i, temp in enumerate(temp_min) if temp == menor_temp]\n",
        "print(f\"\\nDía(s) con la menor temperatura mínima ({menor_temp} °C): {dias_menor_temp}\")\n",
        "nueva_temp = float(input(\"\\nIntroduce una temperatura máxima para buscar coincidencias: \"))\n",
        "dias_coincidentes = [i + 1 for i, temp in enumerate(temp_max) if temp == nueva_temp]\n",
        "\n",
        "if dias_coincidentes:\n",
        "    print(\"Día(s) con la temperatura máxima igual a la ingresada:\", dias_coincidentes)\n",
        "else:\n",
        "    print(\"No hay ningún día con la temperatura máxima igual a la ingresada.\")\n"
      ],
      "metadata": {
        "id": "MN9ojLlAI-JC"
      },
      "execution_count": null,
      "outputs": []
    },
    {
      "cell_type": "markdown",
      "source": [
        "Ejercicio 4\n",
        "Crea un programa en Python que permita adivinar un número. La aplicación genera un\n",
        "número aleatorio del 1 al 100. A continuación, va pidiendo números y va respondiendo si\n",
        "el número a adivinar es mayor o menor que el introducido, así como el número de intentos\n",
        "que quedan, se contarán con 10 intentos para adivinar el número). El programa termina\n",
        "cuando se acierta el número y debe indicar en que intento fue acertado, si se llega al límite\n",
        "de intentos, el programa debe mostrar que se había generado"
      ],
      "metadata": {
        "id": "Lj_wd_lhJNd7"
      }
    },
    {
      "cell_type": "code",
      "source": [
        "import random\n",
        "\n",
        "def adivinar_numero():\n",
        "    numero_aleatorio = random.randint(1, 100)  # Generar número aleatorio\n",
        "    intentos = 10  # Número de intentos\n",
        "\n",
        "    print(\"Adivina el número entre 1 y 100. Tienes 10 intentos.\")\n",
        "\n",
        "    for i in range(1, intentos + 1):\n",
        "        numero_usuario = int(input(\"Ingresa un número: \"))\n",
        "\n",
        "        if numero_usuario == numero_aleatorio:\n",
        "            print(f\"¡Correcto! Adivinaste el número {numero_aleatorio} en el intento {i}.\")\n",
        "            return\n",
        "        elif numero_usuario < numero_aleatorio:\n",
        "            print(\"El número es mayor.\")\n",
        "        else:\n",
        "            print(\"El número es menor.\")\n",
        "\n",
        "    print(f\"Te quedaste sin intentos. El número era {numero_aleatorio}.\")\n",
        "\n",
        "# Ejecutar el juego\n",
        "adivinar_numero()\n"
      ],
      "metadata": {
        "id": "wZfuOoudJ6f7"
      },
      "execution_count": null,
      "outputs": []
    },
    {
      "cell_type": "markdown",
      "source": [],
      "metadata": {
        "id": "In8sWzyK-HCj"
      }
    }
  ]
}