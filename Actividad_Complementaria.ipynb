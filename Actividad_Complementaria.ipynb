{
  "nbformat": 4,
  "nbformat_minor": 0,
  "metadata": {
    "colab": {
      "provenance": []
    },
    "kernelspec": {
      "name": "python3",
      "display_name": "Python 3"
    },
    "language_info": {
      "name": "python"
    }
  },
  "cells": [
    {
      "cell_type": "markdown",
      "source": [
        "Acontinuacion se realizo una censo en un conjunto residencial , donde se pregunto la edad de los hijos en cada casa de familia y estos fueron los resultados\n",
        "**Datos: 2, 5, 3, 3, 8, 10, 11, 18, 19, 21, 22, 22, 25**\n"
      ],
      "metadata": {
        "id": "3tZaLXT7Wiva"
      }
    },
    {
      "cell_type": "markdown",
      "source": [
        "Descripcion Media , se entiende como el ***promedio de los datos*** , sumatoria de todos los datos y dividirlos por la cantidad de datos que se tenga."
      ],
      "metadata": {
        "id": "xfZA_KaMXSVT"
      }
    },
    {
      "cell_type": "markdown",
      "source": [
        "Descripcion de la **Mediana** valor medio cuando un conjunto de datos se ordena de menor a mayor; Si el número de elementos es impar, es el valor central; si es par, es el promedio de los dos valores centrales.\n",
        "\n"
      ],
      "metadata": {
        "id": "LjIwOwN3YBgb"
      }
    },
    {
      "cell_type": "markdown",
      "source": [
        "Descripción de la  **Moda** es el número que se presenta con más frecuencia en un conjunto de datos , si en el conjunto de datos ningun valor se repite no existe la moda."
      ],
      "metadata": {
        "id": "kgG0Z0AWYW35"
      }
    },
    {
      "cell_type": "markdown",
      "source": [
        "Descripción de la **Varianza**, mide la dispersión de los datos respecto a la media. Se calcula sumando los cuadrados de las diferencias entre cada valor y la media, y luego dividiendo entre 𝑛−1 si es muestral o entre 𝑛 si espoblacional."
      ],
      "metadata": {
        "id": "vuvDdanOanVc"
      }
    },
    {
      "cell_type": "markdown",
      "source": [
        "Descripción de la **Desviación estandar** es la raíz cuadrada de la varianza. Representa la dispersión promedio de los datos respecto a la media."
      ],
      "metadata": {
        "id": "3pa7tkYTZY4a"
      }
    },
    {
      "cell_type": "markdown",
      "source": [
        "Descripión de **Coeficiente de variación** Es el cociente entre la desviación estándar y la media, expresado en porcentaje , entonces divida ( desviacion estandar / media ) y multiplique por 100"
      ],
      "metadata": {
        "id": "bcJtUG20ZoJ5"
      }
    },
    {
      "cell_type": "markdown",
      "source": [
        "Descripción **Normalización Z** los datos para que tengan una media de 0 y una desviación estándar de 1. Se calcula restando la media a cada valor y dividiendo por la desviación estándar."
      ],
      "metadata": {
        "id": "KLODaG06bjQo"
      }
    },
    {
      "cell_type": "code",
      "execution_count": null,
      "metadata": {
        "id": "LooP3MKqVAnd"
      },
      "outputs": [],
      "source": [
        "\n",
        "def calcular_media(datos):\n",
        "  suma = 0\n",
        "  n = len(datos)\n",
        "  for valor in datos:\n",
        "    suma += valor\n",
        "  return suma / n\n",
        "\n",
        "\n",
        "def calcular_mediana(datos):\n",
        "    datos_ordenados = sorted(datos)\n",
        "    n = len(datos)\n",
        "    if n % 2 == 0:\n",
        "        # Si n es par, devolver el promedio de todos los  valores centrales\n",
        "        return (datos_ordenados[n//2 - 1] + datos_ordenados[n//2]) / 2\n",
        "    else:\n",
        "        # Si n es impar, devolver el valor central\n",
        "        return datos_ordenados[n//2]\n",
        "\n",
        "def calcular_moda(datos):\n",
        "  frecuencia = {}\n",
        "  for valor in datos:\n",
        "    if valor in frecuencia:\n",
        "      frecuencia[valor] += 1\n",
        "    else:\n",
        "      frecuencia[valor] = 1\n",
        "\n",
        "  max_frecuencia = 0\n",
        "  moda = None\n",
        "  for valor, freq in frecuencia.items():\n",
        "    if freq > max_frecuencia:\n",
        "      max_frecuencia = freq\n",
        "      moda = valor\n",
        "    elif freq == max_frecuencia and moda is not None:\n",
        "      moda = \"No hay una moda única\"\n",
        "\n",
        "  return moda\n",
        "\n",
        "\n",
        "def calcular_varianza(datos):\n",
        "    media = calcular_media(datos)\n",
        "    suma_diferencias = sum((x - media) ** 2 for x in datos)\n",
        "    return suma_diferencias / len(datos)\n",
        "\n",
        "\n",
        "def calcular_desviacion_estandar(datos):\n",
        "    varianza = calcular_varianza(datos)\n",
        "    return varianza ** 0.5\n",
        "\n",
        "\n",
        "def calcular_coeficiente_variacion(datos):\n",
        "    media = calcular_media(datos)\n",
        "    desviacion = calcular_desviacion_estandar(datos)\n",
        "    if media != 0:\n",
        "        return (desviacion / media) * 100\n",
        "    else:\n",
        "        return \"Media es cero\"\n",
        "\n",
        "\n",
        "def normalizacion_z(datos):\n",
        "    media = calcular_media(datos)\n",
        "    desviacion = calcular_desviacion_estandar(datos)\n",
        "    if desviacion != 0:\n",
        "        return [(x - media) / desviacion for x in datos]\n",
        "    else:\n",
        "        return [0 for x in datos]\n",
        "\n",
        "\n"
      ]
    },
    {
      "cell_type": "code",
      "source": [
        "\n",
        "print(\"Datos: \", datos)\n",
        "print(\"Media:\", calcular_media(datos))\n",
        "print(\"Mediana:\", calcular_mediana(datos))\n",
        "print(\"Moda:\", calcular_moda(datos))\n",
        "print(\"Varianza:\", calcular_varianza(datos))\n",
        "print(\"Desviación estándar:\", calcular_desviacion_estandar(datos))\n",
        "print(\"Coeficiente de variación:\", calcular_coeficiente_variacion(datos))\n",
        "print(\"Normalización Z:\", normalizacion_z(datos))"
      ],
      "metadata": {
        "colab": {
          "base_uri": "https://localhost:8080/"
        },
        "id": "FIBMbVwlWJjt",
        "outputId": "58ec8b82-93d0-4990-efc4-797c4fcb040a"
      },
      "execution_count": null,
      "outputs": [
        {
          "output_type": "stream",
          "name": "stdout",
          "text": [
            "Datos:  [2, 5, 3, 3, 8, 10, 11, 18, 19, 21, 22, 22, 25]\n",
            "Media: 13.0\n",
            "Mediana: 11\n",
            "Moda: No hay una moda única\n",
            "Varianza: 65.6923076923077\n",
            "Desviación estándar: 8.105079129305752\n",
            "Coeficiente de variación: 62.34676253312117\n",
            "Normalización Z: [-1.357173671534804, -0.9870353974798575, -1.233794246849822, -1.233794246849822, -0.616897123424911, -0.37013827405494654, -0.24675884936996437, 0.616897123424911, 0.7402765481098931, 0.9870353974798575, 1.1104148221648398, 1.1104148221648398, 1.4805530962197861]\n"
          ]
        }
      ]
    }
  ]
}